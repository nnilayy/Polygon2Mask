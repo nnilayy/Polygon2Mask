{
  "cells": [
    {
      "cell_type": "markdown",
      "metadata": {
        "id": "view-in-github",
        "colab_type": "text"
      },
      "source": [
        "<a href=\"https://colab.research.google.com/github/nnilayy/Polygon2Mask/blob/main/Polygon2Mask.ipynb\" target=\"_parent\"><img src=\"https://colab.research.google.com/assets/colab-badge.svg\" alt=\"Open In Colab\"/></a>"
      ]
    },
    {
      "cell_type": "code",
      "execution_count": null,
      "metadata": {
        "id": "XoJaJIdeKWd7"
      },
      "outputs": [],
      "source": [
        "!unzip -q /content/balls.zip -d /content/"
      ]
    },
    {
      "cell_type": "code",
      "execution_count": null,
      "metadata": {
        "id": "DYkztk1fpG3V"
      },
      "outputs": [],
      "source": [
        "import numpy as np\n",
        "from skimage import draw"
      ]
    },
    {
      "cell_type": "code",
      "execution_count": null,
      "metadata": {
        "id": "egsfdkxTYYRD",
        "colab": {
          "base_uri": "https://localhost:8080/"
        },
        "outputId": "81a30e61-881f-4b89-ae4e-9a6b8a61548a"
      },
      "outputs": [
        {
          "output_type": "stream",
          "name": "stdout",
          "text": [
            "Mounted at /content/drive\n"
          ]
        }
      ],
      "source": [
        "from google.colab import drive\n",
        "drive.mount('/content/drive')"
      ]
    },
    {
      "cell_type": "markdown",
      "metadata": {
        "id": "8uMkyZKSF5bR"
      },
      "source": [
        "## Extracting the shape of the images"
      ]
    },
    {
      "cell_type": "code",
      "execution_count": null,
      "metadata": {
        "id": "sVbn82yF6VsW"
      },
      "outputs": [],
      "source": [
        "from google.colab.patches import cv2_imshow\n",
        "import glob\n",
        "import os\n",
        "import numpy as np\n",
        "import cv2\n",
        "\n",
        "images=sorted(glob.glob(\"/content/balls/*\"))\n",
        "\n",
        "image_shapes=[]\n",
        "for image in images:\n",
        "  image=cv2.imread(image)\n",
        "  image=np.array(image)\n",
        "  width,height,_=image.shape\n",
        "  cv2_imshow(image)\n",
        "  image_shapes.append((width,height))\n",
        "\n",
        "names=[]\n",
        "for image in images:\n",
        "  basename=os.path.basename(image)\n",
        "  basename=basename.split('.')[0]\n",
        "  names.append(basename)"
      ]
    },
    {
      "cell_type": "markdown",
      "metadata": {
        "id": "GQTGcifALRVC"
      },
      "source": [
        "## Extracting the X_coordinates and y_coordinates of all images "
      ]
    },
    {
      "cell_type": "code",
      "execution_count": null,
      "metadata": {
        "id": "KV85hU0VRcBz"
      },
      "outputs": [],
      "source": [
        "import json\n",
        "with open('/content/balls.json', 'r') as f:\n",
        "  file = json.load(f)\n",
        "x=[]\n",
        "y=[]\n",
        "for i in file:\n",
        " x.append(file[str(i)][\"regions\"][\"0\"][\"shape_attributes\"]['all_points_x'])\n",
        " y.append(file[str(i)][\"regions\"][\"0\"][\"shape_attributes\"]['all_points_y'])\n",
        "print(x)\n",
        "print(y)"
      ]
    },
    {
      "cell_type": "markdown",
      "metadata": {
        "id": "I_2MdG6ZLkEe"
      },
      "source": [
        "## Drawing masks"
      ]
    },
    {
      "cell_type": "code",
      "execution_count": null,
      "metadata": {
        "id": "4ev6swt_0jUR"
      },
      "outputs": [],
      "source": [
        "def mask(x, y, shape):\n",
        "    row_fill, col_fill = draw.polygon(x, y, shape)\n",
        "    mask = np.zeros(shape, dtype=np.bool)\n",
        "    mask[row_fill,col_fill] = True\n",
        "    return mask*255"
      ]
    },
    {
      "cell_type": "code",
      "execution_count": null,
      "metadata": {
        "id": "brFdXw1AYse6"
      },
      "outputs": [],
      "source": [
        "!mkdir \"/content/Bitmaps\""
      ]
    },
    {
      "cell_type": "code",
      "execution_count": null,
      "metadata": {
        "id": "zQI02mnO0hLX"
      },
      "outputs": [],
      "source": [
        "from google.colab.patches import cv2_imshow\n",
        "import cv2\n",
        "import os\n",
        "img=[]\n",
        "for i, name, shape in zip( range(len(x)), names, image_shapes):\n",
        "  bw=mask(y[i],x[i],shape)\n",
        "  img.append(bw)\n",
        "  cv2.imwrite(\"/content/Bitmaps/\"+str(name)+\".jpeg\",bw)\n",
        "  cv2_imshow(bw)"
      ]
    },
    {
      "cell_type": "code",
      "source": [
        "import matplotlib.pyplot as plt\n",
        "X=sorted(glob.glob(\"/content/balls/*\"))\n",
        "y=sorted(glob.glob(\"/content/Bitmaps/*\"))\n",
        "index=5\n",
        "image=cv2.imread(X[index])\n",
        "mask=cv2.imread(y[index])\n",
        "plt.subplot(1, 2, 1)\n",
        "plt.imshow(image,cmap='gray')\n",
        "plt.subplot(1, 2, 2)\n",
        "plt.imshow(mask,cmap='gray')\n",
        "plt.show()\n"
      ],
      "metadata": {
        "id": "T-0i1gGW8Qcp"
      },
      "execution_count": null,
      "outputs": []
    },
    {
      "cell_type": "markdown",
      "metadata": {
        "id": "GhKCxt_EkXbu"
      },
      "source": [
        "## Setting Data Generator For Augmentation"
      ]
    },
    {
      "cell_type": "code",
      "execution_count": null,
      "metadata": {
        "id": "J8kaxxxBRPy5"
      },
      "outputs": [],
      "source": [
        "from tensorflow.keras.preprocessing.image import ImageDataGenerator, array_to_img, img_to_array, load_img\n",
        "datagen=ImageDataGenerator(\n",
        "    rotation_range=360,\n",
        "    # brightness_range=(0,5),\n",
        "    zoom_range=0.1,\n",
        "    shear_range=0.1,\n",
        "    horizontal_flip=True,\n",
        "    vertical_flip=True,\n",
        "    fill_mode=\"nearest\",\n",
        ")"
      ]
    },
    {
      "cell_type": "markdown",
      "metadata": {
        "id": "xhDtFqpAkeLx"
      },
      "source": [
        "## Augmenting Images"
      ]
    },
    {
      "cell_type": "code",
      "execution_count": null,
      "metadata": {
        "id": "PP04QbMedgor"
      },
      "outputs": [],
      "source": [
        "!mkdir \"/content/drive/MyDrive/Balls\"\n",
        "!mkdir \"/content/drive/MyDrive/Balls/Images\"\n",
        "!mkdir \"/content/drive/MyDrive/Balls/Masks\""
      ]
    },
    {
      "cell_type": "code",
      "execution_count": null,
      "metadata": {
        "id": "rxd4UI9GkVLT"
      },
      "outputs": [],
      "source": [
        "images=sorted(glob.glob(\"/content/balls/*\"))\n",
        "masks=sorted(glob.glob(\"/content/Bitmaps/*\"))\n",
        "seed=42\n",
        "\n",
        "increment=0\n",
        "for image,mask in zip(images,masks):\n",
        "  img=load_img(image)\n",
        "  x=img_to_array(img)\n",
        "  x=x.reshape((1,)+x.shape) \n",
        "  i=1\n",
        "  for batch in datagen.flow(x,batch_size=1,save_to_dir=\"/content/drive/MyDrive/Balls/Images/\",save_prefix=str(increment),save_format=\"jpg\",seed=seed):\n",
        "    i+=1\n",
        "    if i>20:\n",
        "      break\n",
        "  \n",
        "  msk=load_img(mask)\n",
        "  y=img_to_array(msk)\n",
        "  y=y.reshape((1,)+y.shape)\n",
        "  i=1\n",
        "  for batch in datagen.flow(y,batch_size=1,save_to_dir=\"/content/drive/MyDrive/Balls/Masks/\",save_prefix=str(increment),save_format=\"jpg\",seed=seed):\n",
        "    i+=1\n",
        "    if i>20:\n",
        "      break\n",
        "\n",
        "  increment=increment+1"
      ]
    }
  ],
  "metadata": {
    "accelerator": "GPU",
    "colab": {
      "provenance": [],
      "authorship_tag": "ABX9TyOe3kkYb4+OiWy5CuIYQtut",
      "include_colab_link": true
    },
    "gpuClass": "standard",
    "kernelspec": {
      "display_name": "Python 3",
      "name": "python3"
    },
    "language_info": {
      "name": "python"
    }
  },
  "nbformat": 4,
  "nbformat_minor": 0
}